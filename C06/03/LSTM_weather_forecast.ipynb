{
 "cells": [
  {
   "cell_type": "markdown",
   "id": "207bc665",
   "metadata": {
    "id": "207bc665"
   },
   "source": [
    "## 0. Download dataset\n",
    "**Note:** If you can't download using gdown due to limited number of downloads, please download it manually and upload it to your drive, then copy it from the drive to colab.\n",
    "```python\n",
    "from google.colab import drive\n",
    "\n",
    "drive.mount('/content/drive')\n",
    "!cp /path/to/dataset/on/your/drive .\n",
    "```"
   ]
  },
  {
   "cell_type": "code",
   "execution_count": null,
   "id": "631a7fa8",
   "metadata": {
    "colab": {
     "base_uri": "https://localhost:8080/"
    },
    "executionInfo": {
     "elapsed": 7224,
     "status": "ok",
     "timestamp": 1734060562465,
     "user": {
      "displayName": "Khoa Nguyen Tho Anh",
      "userId": "05392028195404260378"
     },
     "user_tz": -420
    },
    "id": "631a7fa8",
    "outputId": "d047e81a-c9b7-4045-949a-d8caa6f649cc"
   },
   "outputs": [
    {
     "name": "stdout",
     "output_type": "stream",
     "text": [
      "/usr/local/lib/python3.10/dist-packages/gdown/__main__.py:140: FutureWarning: Option `--id` was deprecated in version 4.3.1 and will be removed in 5.0. You don't need to pass it anymore to use a file ID.\n",
      "  warnings.warn(\n",
      "Downloading...\n",
      "From: https://drive.google.com/uc?id=178YSDYmlRh54IcxStgYA3UyKFRM9-3DO\n",
      "To: /content/dataset.zip\n",
      "100% 2.35M/2.35M [00:00<00:00, 21.0MB/s]\n"
     ]
    }
   ],
   "source": [
    "!gdown --id 178YSDYmlRh54IcxStgYA3UyKFRM9-3DO"
   ]
  },
  {
   "cell_type": "code",
   "execution_count": null,
   "id": "O1XU1HxC_9MQ",
   "metadata": {
    "colab": {
     "base_uri": "https://localhost:8080/"
    },
    "executionInfo": {
     "elapsed": 63,
     "status": "ok",
     "timestamp": 1734060562466,
     "user": {
      "displayName": "Khoa Nguyen Tho Anh",
      "userId": "05392028195404260378"
     },
     "user_tz": -420
    },
    "id": "O1XU1HxC_9MQ",
    "outputId": "a1b68037-0253-424b-d464-1f0223229bb7"
   },
   "outputs": [
    {
     "name": "stdout",
     "output_type": "stream",
     "text": [
      "Archive:  dataset.zip\n",
      "   creating: dataset/\n",
      "  inflating: dataset/weatherHistory.csv  \n"
     ]
    }
   ],
   "source": [
    "!unzip dataset.zip"
   ]
  },
  {
   "cell_type": "code",
   "execution_count": null,
   "id": "_J2jb7B5_9Zw",
   "metadata": {
    "colab": {
     "base_uri": "https://localhost:8080/"
    },
    "executionInfo": {
     "elapsed": 7793,
     "status": "ok",
     "timestamp": 1734060570240,
     "user": {
      "displayName": "Khoa Nguyen Tho Anh",
      "userId": "05392028195404260378"
     },
     "user_tz": -420
    },
    "id": "_J2jb7B5_9Zw",
    "outputId": "f43d4630-29d9-493e-9514-a592cf35ff75"
   },
   "outputs": [
    {
     "name": "stdout",
     "output_type": "stream",
     "text": [
      "Collecting unidecode\n",
      "  Downloading Unidecode-1.3.8-py3-none-any.whl.metadata (13 kB)\n",
      "Downloading Unidecode-1.3.8-py3-none-any.whl (235 kB)\n",
      "\u001b[?25l   \u001b[90m━━━━━━━━━━━━━━━━━━━━━━━━━━━━━━━━━━━━━━━━\u001b[0m \u001b[32m0.0/235.5 kB\u001b[0m \u001b[31m?\u001b[0m eta \u001b[36m-:--:--\u001b[0m\r\u001b[2K   \u001b[91m━━━━━━━━━━━━━━━━━━━━━━━━━━━━━━━━━━━━━━\u001b[0m\u001b[90m╺\u001b[0m\u001b[90m━\u001b[0m \u001b[32m225.3/235.5 kB\u001b[0m \u001b[31m11.7 MB/s\u001b[0m eta \u001b[36m0:00:01\u001b[0m\r\u001b[2K   \u001b[90m━━━━━━━━━━━━━━━━━━━━━━━━━━━━━━━━━━━━━━━━\u001b[0m \u001b[32m235.5/235.5 kB\u001b[0m \u001b[31m4.3 MB/s\u001b[0m eta \u001b[36m0:00:00\u001b[0m\n",
      "\u001b[?25hInstalling collected packages: unidecode\n",
      "Successfully installed unidecode-1.3.8\n"
     ]
    }
   ],
   "source": [
    "!pip install unidecode"
   ]
  },
  {
   "cell_type": "markdown",
   "id": "138a5a26",
   "metadata": {
    "id": "138a5a26"
   },
   "source": [
    "## 1. Import libraries"
   ]
  },
  {
   "cell_type": "code",
   "execution_count": 1,
   "id": "5eefab75",
   "metadata": {
    "id": "5eefab75"
   },
   "outputs": [],
   "source": [
    "import torch\n",
    "import torch.nn as nn\n",
    "\n",
    "seed = 1\n",
    "torch.manual_seed(seed)\n",
    "\n",
    "import numpy as np\n",
    "import pandas as pd\n",
    "import matplotlib.pyplot as plt\n",
    "\n",
    "from torch.utils.data import Dataset, DataLoader"
   ]
  },
  {
   "cell_type": "markdown",
   "id": "2c44e3cb",
   "metadata": {
    "id": "2c44e3cb"
   },
   "source": [
    "## 2. Read dataset"
   ]
  },
  {
   "cell_type": "code",
   "execution_count": 2,
   "id": "0d4f054a",
   "metadata": {
    "id": "0d4f054a",
    "scrolled": false
   },
   "outputs": [],
   "source": [
    "dataset_filepath = 'dataset/weatherHistory.csv'\n",
    "df = pd.read_csv(dataset_filepath)"
   ]
  },
  {
   "cell_type": "code",
   "execution_count": 3,
   "id": "7722ed65",
   "metadata": {
    "id": "7722ed65",
    "scrolled": false
   },
   "outputs": [],
   "source": [
    "univariate_df = df['Temperature (C)']\n",
    "univariate_df.index = df['Formatted Date']"
   ]
  },
  {
   "cell_type": "code",
   "execution_count": 4,
   "id": "51fbb257",
   "metadata": {
    "colab": {
     "base_uri": "https://localhost:8080/",
     "height": 489
    },
    "executionInfo": {
     "elapsed": 18,
     "status": "ok",
     "timestamp": 1734060579329,
     "user": {
      "displayName": "Khoa Nguyen Tho Anh",
      "userId": "05392028195404260378"
     },
     "user_tz": -420
    },
    "id": "51fbb257",
    "outputId": "e929fd0e-b77e-43e8-8937-731522df601d"
   },
   "outputs": [
    {
     "data": {
      "text/plain": [
       "Formatted Date\n",
       "2006-04-01 00:00:00.000 +0200     9.472222\n",
       "2006-04-01 01:00:00.000 +0200     9.355556\n",
       "2006-04-01 02:00:00.000 +0200     9.377778\n",
       "2006-04-01 03:00:00.000 +0200     8.288889\n",
       "2006-04-01 04:00:00.000 +0200     8.755556\n",
       "                                   ...    \n",
       "2016-09-09 19:00:00.000 +0200    26.016667\n",
       "2016-09-09 20:00:00.000 +0200    24.583333\n",
       "2016-09-09 21:00:00.000 +0200    22.038889\n",
       "2016-09-09 22:00:00.000 +0200    21.522222\n",
       "2016-09-09 23:00:00.000 +0200    20.438889\n",
       "Name: Temperature (C), Length: 96453, dtype: float64"
      ]
     },
     "execution_count": 4,
     "metadata": {},
     "output_type": "execute_result"
    }
   ],
   "source": [
    "univariate_df"
   ]
  },
  {
   "cell_type": "markdown",
   "id": "a94cee77",
   "metadata": {
    "id": "a94cee77"
   },
   "source": [
    "## 3. Data preprocessing"
   ]
  },
  {
   "cell_type": "code",
   "execution_count": 5,
   "id": "c2b2e79d",
   "metadata": {
    "id": "c2b2e79d"
   },
   "outputs": [],
   "source": [
    "input_size = 6\n",
    "label_size = 1\n",
    "offset = 1\n",
    "\n",
    "def slicing_window(df, df_start_idx, df_end_idx, input_size, label_size, offset):\n",
    "    features = []\n",
    "    labels = []\n",
    "\n",
    "    window_size = input_size + offset\n",
    "\n",
    "    if df_end_idx == None:\n",
    "        df_end_idx = len(df) - window_size\n",
    "\n",
    "    for idx in range(df_start_idx, df_end_idx):\n",
    "        feature_end_idx = idx + input_size\n",
    "        label_start_idx = idx + window_size - label_size\n",
    "\n",
    "        feature = df[idx:feature_end_idx]\n",
    "        label = df[label_start_idx:(idx+window_size)]\n",
    "\n",
    "        features.append(feature)\n",
    "        labels.append(label)\n",
    "\n",
    "    features = np.expand_dims(np.array(features), -1)\n",
    "    labels = np.array(labels)\n",
    "\n",
    "    return features, labels"
   ]
  },
  {
   "cell_type": "markdown",
   "id": "a443009e",
   "metadata": {
    "id": "a443009e"
   },
   "source": [
    "## 4. Train, val, test split"
   ]
  },
  {
   "cell_type": "code",
   "execution_count": 6,
   "id": "08f3446b",
   "metadata": {
    "id": "08f3446b"
   },
   "outputs": [],
   "source": [
    "dataset_length = len(univariate_df)\n",
    "train_size = 0.7\n",
    "val_size = 0.2\n",
    "train_end_idx = int(train_size * dataset_length)\n",
    "val_end_idx = int(val_size * dataset_length) + train_end_idx\n",
    "\n",
    "X_train, y_train = slicing_window(\n",
    "    univariate_df,\n",
    "    df_start_idx=0,\n",
    "    df_end_idx=train_end_idx,\n",
    "    input_size=input_size,\n",
    "    label_size=label_size,\n",
    "    offset=offset\n",
    ")\n",
    "\n",
    "X_val, y_val = slicing_window(\n",
    "    univariate_df,\n",
    "    df_start_idx=train_end_idx,\n",
    "    df_end_idx=val_end_idx,\n",
    "    input_size=input_size,\n",
    "    label_size=label_size,\n",
    "    offset=offset\n",
    ")\n",
    "\n",
    "X_test, y_test = slicing_window(\n",
    "    univariate_df,\n",
    "    df_start_idx=val_end_idx,\n",
    "    df_end_idx=None,\n",
    "    input_size=input_size,\n",
    "    label_size=label_size,\n",
    "    offset=offset\n",
    ")"
   ]
  },
  {
   "cell_type": "markdown",
   "id": "e44f15c3",
   "metadata": {
    "id": "e44f15c3"
   },
   "source": [
    "## 5. Implement PyTorch dataset"
   ]
  },
  {
   "cell_type": "code",
   "execution_count": 7,
   "id": "9941afd8",
   "metadata": {
    "id": "9941afd8"
   },
   "outputs": [],
   "source": [
    "class WeatherForecast(Dataset):\n",
    "    def __init__(\n",
    "        self,\n",
    "        X, y,\n",
    "        transform=None\n",
    "    ):\n",
    "        self.X = X\n",
    "        self.y = y\n",
    "        self.transform = transform\n",
    "\n",
    "    def __len__(self):\n",
    "        return len(self.X)\n",
    "\n",
    "    def __getitem__(self, idx):\n",
    "        X = self.X[idx]\n",
    "        y = self.y[idx]\n",
    "\n",
    "        if self.transform:\n",
    "            X = self.transform(X)\n",
    "\n",
    "        X = torch.tensor(X, dtype=torch.float32)\n",
    "        y = torch.tensor(y, dtype=torch.float32)\n",
    "\n",
    "        return X, y"
   ]
  },
  {
   "cell_type": "markdown",
   "id": "35746976",
   "metadata": {
    "id": "35746976"
   },
   "source": [
    "## 6. Create dataloader"
   ]
  },
  {
   "cell_type": "code",
   "execution_count": 8,
   "id": "462de074",
   "metadata": {
    "id": "462de074"
   },
   "outputs": [],
   "source": [
    "train_dataset = WeatherForecast(\n",
    "    X_train, y_train\n",
    ")\n",
    "val_dataset = WeatherForecast(\n",
    "    X_val, y_val\n",
    ")\n",
    "test_dataset = WeatherForecast(\n",
    "    X_test, y_test\n",
    ")"
   ]
  },
  {
   "cell_type": "code",
   "execution_count": 9,
   "id": "8fd30115",
   "metadata": {
    "id": "8fd30115"
   },
   "outputs": [],
   "source": [
    "train_batch_size = 128\n",
    "test_batch_size = 8\n",
    "\n",
    "train_loader = DataLoader(\n",
    "    train_dataset,\n",
    "    batch_size=train_batch_size,\n",
    "    shuffle=True\n",
    ")\n",
    "val_loader = DataLoader(\n",
    "    val_dataset,\n",
    "    batch_size=test_batch_size,\n",
    "    shuffle=False\n",
    ")\n",
    "test_loader = DataLoader(\n",
    "    test_dataset,\n",
    "    batch_size=test_batch_size,\n",
    "    shuffle=False\n",
    ")"
   ]
  },
  {
   "cell_type": "markdown",
   "id": "c4275555",
   "metadata": {
    "id": "c4275555"
   },
   "source": [
    "## 7. Implement model"
   ]
  },
  {
   "cell_type": "code",
   "execution_count": 10,
   "id": "9ce5bfca",
   "metadata": {
    "id": "9ce5bfca"
   },
   "outputs": [],
   "source": [
    "class WeatherForecastor(nn.Module):\n",
    "    def __init__(\n",
    "        self, embedding_dim, hidden_size,\n",
    "        n_layers, dropout_prob\n",
    "    ):\n",
    "        super(WeatherForecastor, self).__init__()\n",
    "        self.lstm = nn.LSTM(embedding_dim, hidden_size, n_layers, batch_first=True)\n",
    "        self.norm = nn.LayerNorm(hidden_size)\n",
    "\n",
    "        self.dropout = nn.Dropout(dropout_prob)\n",
    "        self.fc = nn.Linear(hidden_size, 1)\n",
    "\n",
    "    def forward(self, x):\n",
    "        x, (hn, cn) = self.lstm(x)\n",
    "        x = x[:, -1, :]\n",
    "        x = self.norm(x)\n",
    "        x = self.dropout(x)\n",
    "        x = self.fc(x)\n",
    "\n",
    "        return x"
   ]
  },
  {
   "cell_type": "code",
   "execution_count": 20,
   "id": "5fec152d",
   "metadata": {},
   "outputs": [
    {
     "data": {
      "text/plain": [
       "==========================================================================================\n",
       "Layer (type:depth-idx)                   Output Shape              Param #\n",
       "==========================================================================================\n",
       "WeatherForecastor                        [1, 1]                    --\n",
       "├─LSTM: 1-1                              [1, 6, 8]                 1,504\n",
       "├─LayerNorm: 1-2                         [1, 8]                    16\n",
       "├─Dropout: 1-3                           [1, 8]                    --\n",
       "├─Linear: 1-4                            [1, 1]                    9\n",
       "==========================================================================================\n",
       "Total params: 1,529\n",
       "Trainable params: 1,529\n",
       "Non-trainable params: 0\n",
       "Total mult-adds (Units.MEGABYTES): 0.01\n",
       "==========================================================================================\n",
       "Input size (MB): 0.00\n",
       "Forward/backward pass size (MB): 0.00\n",
       "Params size (MB): 0.01\n",
       "Estimated Total Size (MB): 0.01\n",
       "=========================================================================================="
      ]
     },
     "execution_count": 20,
     "metadata": {},
     "output_type": "execute_result"
    }
   ],
   "source": [
    "from torchinfo import summary\n",
    "\n",
    "# Assuming your model is defined as shown previously\n",
    "model = WeatherForecastor(\n",
    "    embedding_dim=1,  # Example embedding dimension\n",
    "    hidden_size=8,    # Example hidden size\n",
    "    n_layers=3,       # Example number of layers\n",
    "    dropout_prob=0.2  # Example dropout probability\n",
    ")\n",
    "\n",
    "# Example input shape: (batch_size, sequence_length, embedding_dim)\n",
    "input_shape = (1, 6, 1)  # Batch size of 1, sequence length of 6, embedding dimension of 1\n",
    "\n",
    "# Print the model summary\n",
    "summary(model, input_size=input_shape)"
   ]
  },
  {
   "cell_type": "code",
   "execution_count": 11,
   "id": "3eb16c39",
   "metadata": {
    "id": "3eb16c39"
   },
   "outputs": [],
   "source": [
    "embedding_dim = 1\n",
    "hidden_size = 8\n",
    "n_layers = 3\n",
    "dropout_prob = 0.2\n",
    "device = 'cuda' if torch.cuda.is_available() else 'cpu'\n",
    "\n",
    "model = WeatherForecastor(\n",
    "    embedding_dim=embedding_dim,\n",
    "    hidden_size=hidden_size,\n",
    "    n_layers=n_layers,\n",
    "    dropout_prob=dropout_prob\n",
    ").to(device)"
   ]
  },
  {
   "cell_type": "code",
   "execution_count": 12,
   "id": "892152b6",
   "metadata": {
    "colab": {
     "base_uri": "https://localhost:8080/"
    },
    "executionInfo": {
     "elapsed": 6,
     "status": "ok",
     "timestamp": 1734060599165,
     "user": {
      "displayName": "Khoa Nguyen Tho Anh",
      "userId": "05392028195404260378"
     },
     "user_tz": -420
    },
    "id": "892152b6",
    "outputId": "9bda71af-a2cd-4a91-96b9-7c5b109a7773"
   },
   "outputs": [
    {
     "name": "stdout",
     "output_type": "stream",
     "text": [
      "Output shape: torch.Size([1, 1])\n"
     ]
    }
   ],
   "source": [
    "model.eval()\n",
    "\n",
    "dummy_tensor = torch.randn((1, 6, 1)).to(device)\n",
    "\n",
    "with torch.no_grad():\n",
    "    output = model(dummy_tensor)\n",
    "\n",
    "print('Output shape:', output.shape)"
   ]
  },
  {
   "cell_type": "markdown",
   "id": "f1e9597f",
   "metadata": {
    "id": "f1e9597f"
   },
   "source": [
    "## 8. Training"
   ]
  },
  {
   "cell_type": "code",
   "execution_count": 13,
   "id": "682d2073",
   "metadata": {
    "id": "682d2073"
   },
   "outputs": [],
   "source": [
    "def evaluate(model, dataloader, criterion, device):\n",
    "    model.eval()\n",
    "\n",
    "    losses = []\n",
    "    with torch.no_grad():\n",
    "        for inputs, labels in dataloader:\n",
    "            inputs, labels = inputs.to(device), labels.to(device)\n",
    "            outputs = model(inputs)\n",
    "            loss = criterion(outputs, labels)\n",
    "            losses.append(loss.item())\n",
    "\n",
    "    loss = sum(losses) / len(losses)\n",
    "\n",
    "    return loss"
   ]
  },
  {
   "cell_type": "code",
   "execution_count": 14,
   "id": "81145eec",
   "metadata": {
    "id": "81145eec"
   },
   "outputs": [],
   "source": [
    "def fit(\n",
    "    model,\n",
    "    train_loader,\n",
    "    val_loader,\n",
    "    criterion,\n",
    "    optimizer,\n",
    "    device,\n",
    "    epochs\n",
    "):\n",
    "    train_losses = []\n",
    "    val_losses = []\n",
    "\n",
    "    for epoch in range(epochs):\n",
    "        batch_train_losses = []\n",
    "\n",
    "        model.train()\n",
    "        for idx, (inputs, labels) in enumerate(train_loader):\n",
    "            inputs, labels = inputs.to(device), labels.to(device)\n",
    "\n",
    "            optimizer.zero_grad()\n",
    "            outputs = model(inputs)\n",
    "            loss = criterion(outputs, labels)\n",
    "            loss.backward()\n",
    "            optimizer.step()\n",
    "\n",
    "            batch_train_losses.append(loss.item())\n",
    "\n",
    "        train_loss = sum(batch_train_losses) / len(batch_train_losses)\n",
    "        train_losses.append(train_loss)\n",
    "\n",
    "        val_loss = evaluate(\n",
    "            model, val_loader,\n",
    "            criterion, device\n",
    "        )\n",
    "        val_losses.append(val_loss)\n",
    "\n",
    "        print(f'EPOCH {epoch + 1}:\\tTrain loss: {train_loss:.4f}\\tVal loss: {val_loss:.4f}')\n",
    "\n",
    "    return train_losses, val_losses"
   ]
  },
  {
   "cell_type": "code",
   "execution_count": 15,
   "id": "a80115e1",
   "metadata": {
    "id": "a80115e1"
   },
   "outputs": [],
   "source": [
    "lr = 1e-3\n",
    "epochs = 50\n",
    "\n",
    "criterion = nn.MSELoss()\n",
    "optimizer = torch.optim.Adam(\n",
    "    model.parameters(),\n",
    "    lr=lr\n",
    ")"
   ]
  },
  {
   "cell_type": "code",
   "execution_count": 16,
   "id": "3558ed3f",
   "metadata": {
    "colab": {
     "base_uri": "https://localhost:8080/"
    },
    "executionInfo": {
     "elapsed": 353572,
     "status": "ok",
     "timestamp": 1734060958763,
     "user": {
      "displayName": "Khoa Nguyen Tho Anh",
      "userId": "05392028195404260378"
     },
     "user_tz": -420
    },
    "id": "3558ed3f",
    "outputId": "765ec0bc-d5a5-4634-a06c-28b1381b6e5d",
    "scrolled": true
   },
   "outputs": [
    {
     "name": "stdout",
     "output_type": "stream",
     "text": [
      "EPOCH 1:\tTrain loss: 141.4146\tVal loss: 46.9242\n",
      "EPOCH 2:\tTrain loss: 30.9261\tVal loss: 7.8025\n",
      "EPOCH 3:\tTrain loss: 14.5658\tVal loss: 3.8988\n",
      "EPOCH 4:\tTrain loss: 11.7389\tVal loss: 2.1324\n",
      "EPOCH 5:\tTrain loss: 10.7437\tVal loss: 2.5407\n",
      "EPOCH 6:\tTrain loss: 10.1130\tVal loss: 1.7257\n",
      "EPOCH 7:\tTrain loss: 9.6940\tVal loss: 1.8112\n",
      "EPOCH 8:\tTrain loss: 9.6221\tVal loss: 1.5780\n",
      "EPOCH 9:\tTrain loss: 9.2094\tVal loss: 1.5101\n",
      "EPOCH 10:\tTrain loss: 9.0048\tVal loss: 1.6636\n",
      "EPOCH 11:\tTrain loss: 8.9606\tVal loss: 1.6650\n",
      "EPOCH 12:\tTrain loss: 8.6041\tVal loss: 1.5406\n",
      "EPOCH 13:\tTrain loss: 8.4384\tVal loss: 1.7634\n",
      "EPOCH 14:\tTrain loss: 8.2474\tVal loss: 1.4881\n",
      "EPOCH 15:\tTrain loss: 8.0634\tVal loss: 1.6442\n",
      "EPOCH 16:\tTrain loss: 7.7771\tVal loss: 1.5508\n",
      "EPOCH 17:\tTrain loss: 7.8380\tVal loss: 1.5680\n",
      "EPOCH 18:\tTrain loss: 7.6121\tVal loss: 1.5337\n",
      "EPOCH 19:\tTrain loss: 7.4546\tVal loss: 1.6492\n",
      "EPOCH 20:\tTrain loss: 7.2307\tVal loss: 2.0194\n",
      "EPOCH 21:\tTrain loss: 7.1969\tVal loss: 1.7055\n",
      "EPOCH 22:\tTrain loss: 7.0088\tVal loss: 1.6821\n",
      "EPOCH 23:\tTrain loss: 6.7934\tVal loss: 2.0209\n",
      "EPOCH 24:\tTrain loss: 6.8035\tVal loss: 1.7906\n",
      "EPOCH 25:\tTrain loss: 6.6980\tVal loss: 1.4877\n",
      "EPOCH 26:\tTrain loss: 6.6477\tVal loss: 1.6014\n",
      "EPOCH 27:\tTrain loss: 6.3857\tVal loss: 1.5590\n",
      "EPOCH 28:\tTrain loss: 6.3939\tVal loss: 1.5129\n",
      "EPOCH 29:\tTrain loss: 6.2291\tVal loss: 1.5546\n",
      "EPOCH 30:\tTrain loss: 6.2163\tVal loss: 1.5810\n",
      "EPOCH 31:\tTrain loss: 6.1214\tVal loss: 1.5941\n",
      "EPOCH 32:\tTrain loss: 6.0123\tVal loss: 1.6480\n",
      "EPOCH 33:\tTrain loss: 5.9799\tVal loss: 1.5882\n",
      "EPOCH 34:\tTrain loss: 5.9020\tVal loss: 1.6085\n",
      "EPOCH 35:\tTrain loss: 5.9421\tVal loss: 1.5106\n",
      "EPOCH 36:\tTrain loss: 5.8215\tVal loss: 1.6026\n",
      "EPOCH 37:\tTrain loss: 5.7275\tVal loss: 1.4504\n",
      "EPOCH 38:\tTrain loss: 5.6568\tVal loss: 1.4534\n",
      "EPOCH 39:\tTrain loss: 5.6532\tVal loss: 1.5785\n",
      "EPOCH 40:\tTrain loss: 5.5854\tVal loss: 1.6033\n",
      "EPOCH 41:\tTrain loss: 5.5225\tVal loss: 1.5505\n",
      "EPOCH 42:\tTrain loss: 5.4858\tVal loss: 1.5920\n",
      "EPOCH 43:\tTrain loss: 5.4402\tVal loss: 1.4637\n",
      "EPOCH 44:\tTrain loss: 5.3938\tVal loss: 1.6284\n",
      "EPOCH 45:\tTrain loss: 5.3423\tVal loss: 1.5338\n",
      "EPOCH 46:\tTrain loss: 5.3605\tVal loss: 1.6421\n",
      "EPOCH 47:\tTrain loss: 5.2780\tVal loss: 1.6634\n",
      "EPOCH 48:\tTrain loss: 5.1661\tVal loss: 1.4520\n",
      "EPOCH 49:\tTrain loss: 5.1945\tVal loss: 1.4670\n",
      "EPOCH 50:\tTrain loss: 5.2854\tVal loss: 1.4326\n"
     ]
    }
   ],
   "source": [
    "train_losses, val_losses = fit(\n",
    "    model,\n",
    "    train_loader,\n",
    "    val_loader,\n",
    "    criterion,\n",
    "    optimizer,\n",
    "    device,\n",
    "    epochs\n",
    ")"
   ]
  },
  {
   "cell_type": "code",
   "execution_count": 17,
   "id": "866ac448",
   "metadata": {
    "colab": {
     "base_uri": "https://localhost:8080/",
     "height": 487
    },
    "executionInfo": {
     "elapsed": 436,
     "status": "ok",
     "timestamp": 1734060959184,
     "user": {
      "displayName": "Khoa Nguyen Tho Anh",
      "userId": "05392028195404260378"
     },
     "user_tz": -420
    },
    "id": "866ac448",
    "outputId": "4daff751-e576-4147-dfba-f434f8cecdfa",
    "scrolled": true
   },
   "outputs": [
    {
     "data": {
      "image/png": "[encoded data removed]",
      "text/plain": [
       "<Figure size 1200x500 with 2 Axes>"
      ]
     },
     "metadata": {},
     "output_type": "display_data"
    }
   ],
   "source": [
    "fig, ax = plt.subplots(1, 2, figsize=(12, 5))\n",
    "ax[0].plot(train_losses)\n",
    "ax[0].set_title('Training Loss')\n",
    "ax[0].set_xlabel('Epoch')\n",
    "ax[0].set_ylabel('Loss')\n",
    "ax[1].plot(val_losses, color='orange')\n",
    "ax[1].set_title('Val Loss')\n",
    "ax[1].set_xlabel('Epoch')\n",
    "ax[1].set_ylabel('Loss')\n",
    "plt.show()"
   ]
  },
  {
   "cell_type": "markdown",
   "id": "5cbf04f6",
   "metadata": {
    "id": "5cbf04f6"
   },
   "source": [
    "## 9. Evaluation"
   ]
  },
  {
   "cell_type": "code",
   "execution_count": 18,
   "id": "e0a2d0fe",
   "metadata": {
    "colab": {
     "base_uri": "https://localhost:8080/"
    },
    "executionInfo": {
     "elapsed": 7814,
     "status": "ok",
     "timestamp": 1734060966975,
     "user": {
      "displayName": "Khoa Nguyen Tho Anh",
      "userId": "05392028195404260378"
     },
     "user_tz": -420
    },
    "id": "e0a2d0fe",
    "outputId": "72141bdb-9fc0-4a58-a46a-80cb0662c41e"
   },
   "outputs": [
    {
     "name": "stdout",
     "output_type": "stream",
     "text": [
      "Evaluation on val/test dataset\n",
      "Val loss:  1.4326407838597157\n",
      "Test loss:  1.2202516364267955\n"
     ]
    }
   ],
   "source": [
    "val_loss = evaluate(\n",
    "    model,\n",
    "    val_loader,\n",
    "    criterion,\n",
    "    device\n",
    ")\n",
    "test_loss = evaluate(\n",
    "    model,\n",
    "    test_loader,\n",
    "    criterion,\n",
    "    device\n",
    ")\n",
    "\n",
    "print('Evaluation on val/test dataset')\n",
    "print('Val loss: ', val_loss)\n",
    "print('Test loss: ', test_loss)"
   ]
  },
  {
   "cell_type": "code",
   "execution_count": 19,
   "id": "6fb1b51a",
   "metadata": {
    "colab": {
     "base_uri": "https://localhost:8080/",
     "height": 405
    },
    "executionInfo": {
     "elapsed": 46,
     "status": "ok",
     "timestamp": 1734060966976,
     "user": {
      "displayName": "Khoa Nguyen Tho Anh",
      "userId": "05392028195404260378"
     },
     "user_tz": -420
    },
    "id": "6fb1b51a",
    "outputId": "22302c40-bd3f-4bfe-a119-6f3f5bd653e9"
   },
   "outputs": [
    {
     "data": {
      "image/png": "[encoded data removed]",
      "text/plain": [
       "<Figure size 2000x600 with 1 Axes>"
      ]
     },
     "metadata": {},
     "output_type": "display_data"
    }
   ],
   "source": [
    "def plot_difference(y, pred):\n",
    "    plt.figure(figsize=(20, 6))\n",
    "    times = range(len(y))\n",
    "    y_to_plot = y.flatten()\n",
    "    pred_to_plot = pred.flatten()\n",
    "\n",
    "    plt.plot(times, y_to_plot, color='steelblue', marker='o', label='True value')\n",
    "    plt.plot(times, pred_to_plot, color='orangered', marker='X', label='Prediction')\n",
    "\n",
    "    plt.title('Temperature in every hours')\n",
    "    plt.xlabel('Hour')\n",
    "    plt.ylabel('Temperature (C)')\n",
    "    plt.legend()\n",
    "    plt.show()\n",
    "\n",
    "inputs = torch.tensor(X_test[:100], dtype=torch.float32).to(device)\n",
    "model.eval()\n",
    "with torch.no_grad():\n",
    "    outputs = model(inputs).detach().cpu().numpy()\n",
    "plot_difference(y_test[:100], outputs)"
   ]
  }
 ],
 "metadata": {
  "colab": {
   "provenance": []
  },
  "kernelspec": {
   "display_name": "Python 3",
   "language": "python",
   "name": "python3"
  },
  "language_info": {
   "codemirror_mode": {
    "name": "ipython",
    "version": 3
   },
   "file_extension": ".py",
   "mimetype": "text/x-python",
   "name": "python",
   "nbconvert_exporter": "python",
   "pygments_lexer": "ipython3",
   "version": "3.11.9"
  }
 },
 "nbformat": 4,
 "nbformat_minor": 5
}
